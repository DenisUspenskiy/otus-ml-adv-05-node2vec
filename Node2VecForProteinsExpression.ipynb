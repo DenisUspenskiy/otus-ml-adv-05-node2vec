{
 "cells": [
  {
   "cell_type": "markdown",
   "id": "95f7be75-61eb-4d6b-9d60-5458be55a54c",
   "metadata": {},
   "source": [
    "## Proteins expression predictions (using Node2Vec approach)"
   ]
  },
  {
   "cell_type": "markdown",
   "id": "cf69f24b-2b58-48bc-96a5-025656c8f680",
   "metadata": {},
   "source": [
    "#### Plan:\n",
    "<ul>\n",
    "    <li>Use graph structure to train Node2Vec model and get node embeddings for each protein</li>\n",
    "    <li>Use any regressor model to train on node embeddings and predict protein expression</li>\n",
    "    <li>Get embeddings for test data and validate regressor</li>\n",
    "</ul>"
   ]
  },
  {
   "cell_type": "code",
   "execution_count": 140,
   "id": "52d1aa5a-53f8-470a-b183-e4c4f37af395",
   "metadata": {},
   "outputs": [],
   "source": [
    "#initial imports\n",
    "import matplotlib.pyplot as plt\n",
    "import networkx as nx\n",
    "import numpy as np\n",
    "import pandas as pd\n",
    "import stellargraph as sg\n",
    "from stellargraph import StellarGraph\n",
    "from tensorflow import keras\n",
    "from tqdm import tqdm"
   ]
  },
  {
   "cell_type": "code",
   "execution_count": 18,
   "id": "30227920-b943-4fa7-8398-a35724be2873",
   "metadata": {},
   "outputs": [],
   "source": [
    "#stellar graph imports for Node2Vec\n",
    "from stellargraph.data import BiasedRandomWalk, EdgeSplitter, UniformRandomWalk, UnsupervisedSampler\n",
    "from stellargraph.mapper import Node2VecLinkGenerator, Node2VecNodeGenerator\n",
    "from stellargraph.layer import Node2Vec, link_classification"
   ]
  },
  {
   "cell_type": "markdown",
   "id": "7c906995-a8bc-4448-a5b2-cc0f46fc208a",
   "metadata": {},
   "source": [
    "### Load graph data"
   ]
  },
  {
   "cell_type": "code",
   "execution_count": 4,
   "id": "dca57484-96bb-4417-b7c2-209f6b6363b2",
   "metadata": {},
   "outputs": [
    {
     "data": {
      "text/html": [
       "<div>\n",
       "<style scoped>\n",
       "    .dataframe tbody tr th:only-of-type {\n",
       "        vertical-align: middle;\n",
       "    }\n",
       "\n",
       "    .dataframe tbody tr th {\n",
       "        vertical-align: top;\n",
       "    }\n",
       "\n",
       "    .dataframe thead th {\n",
       "        text-align: right;\n",
       "    }\n",
       "</style>\n",
       "<table border=\"1\" class=\"dataframe\">\n",
       "  <thead>\n",
       "    <tr style=\"text-align: right;\">\n",
       "      <th></th>\n",
       "      <th>node_1</th>\n",
       "      <th>node_2</th>\n",
       "    </tr>\n",
       "  </thead>\n",
       "  <tbody>\n",
       "    <tr>\n",
       "      <th>0</th>\n",
       "      <td>344</td>\n",
       "      <td>50</td>\n",
       "    </tr>\n",
       "    <tr>\n",
       "      <th>1</th>\n",
       "      <td>344</td>\n",
       "      <td>153</td>\n",
       "    </tr>\n",
       "    <tr>\n",
       "      <th>2</th>\n",
       "      <td>344</td>\n",
       "      <td>532</td>\n",
       "    </tr>\n",
       "    <tr>\n",
       "      <th>3</th>\n",
       "      <td>344</td>\n",
       "      <td>679</td>\n",
       "    </tr>\n",
       "    <tr>\n",
       "      <th>4</th>\n",
       "      <td>344</td>\n",
       "      <td>986</td>\n",
       "    </tr>\n",
       "  </tbody>\n",
       "</table>\n",
       "</div>"
      ],
      "text/plain": [
       "   node_1  node_2\n",
       "0     344      50\n",
       "1     344     153\n",
       "2     344     532\n",
       "3     344     679\n",
       "4     344     986"
      ]
     },
     "execution_count": 4,
     "metadata": {},
     "output_type": "execute_result"
    }
   ],
   "source": [
    "edges = pd.read_csv(\"https://raw.githubusercontent.com/a-milenkin/Otus_HW_protein_expression/main/edges.csv\", sep=\",\") \n",
    "edges.head()"
   ]
  },
  {
   "cell_type": "code",
   "execution_count": 6,
   "id": "eec6016f-cebc-4c29-9c58-5e82d4b43e9d",
   "metadata": {},
   "outputs": [],
   "source": [
    "Graphtype = nx.Graph()\n",
    "G = nx.from_pandas_edgelist(edges, source='node_1', target='node_2', create_using=Graphtype)"
   ]
  },
  {
   "cell_type": "code",
   "execution_count": 7,
   "id": "c8435d32-7caf-4fea-bf4d-691eab064166",
   "metadata": {},
   "outputs": [
    {
     "name": "stdout",
     "output_type": "stream",
     "text": [
      "Graph with 10000 nodes and 594174 edges\n"
     ]
    },
    {
     "name": "stderr",
     "output_type": "stream",
     "text": [
      "/tmp/ipykernel_370193/2606185536.py:1: DeprecationWarning: info is deprecated and will be removed in version 3.0.\n",
      "\n",
      "  print(nx.info(G))\n"
     ]
    }
   ],
   "source": [
    "print(nx.info(G))"
   ]
  },
  {
   "cell_type": "markdown",
   "id": "3157df10-724c-4d9f-811e-3e3d41662e97",
   "metadata": {},
   "source": [
    "#### Train Node2Vec model"
   ]
  },
  {
   "cell_type": "code",
   "execution_count": 120,
   "id": "936308db-0337-467e-9e6c-90e9bc0588ba",
   "metadata": {},
   "outputs": [],
   "source": [
    "batch_size = 64\n",
    "epochs = 10\n",
    "emb_size = 128\n",
    "walk_number = 100\n",
    "walk_length = 5"
   ]
  },
  {
   "cell_type": "code",
   "execution_count": 121,
   "id": "05dc4975-83fe-4d0d-aaa5-a4671b86dea0",
   "metadata": {},
   "outputs": [],
   "source": [
    "SG = StellarGraph.from_networkx(G)"
   ]
  },
  {
   "cell_type": "code",
   "execution_count": 122,
   "id": "c8adfe03-47a3-4616-ae31-710b8fd730e2",
   "metadata": {},
   "outputs": [],
   "source": [
    "rw = BiasedRandomWalk(SG, n=walk_number, length=walk_length, p=0.5, q=2.0)"
   ]
  },
  {
   "cell_type": "code",
   "execution_count": 123,
   "id": "5844a46f-0df5-40fa-9fe3-56616c239891",
   "metadata": {},
   "outputs": [],
   "source": [
    "unsupervised_sampler = UnsupervisedSampler(SG, nodes=list(SG.nodes()), walker=rw)"
   ]
  },
  {
   "cell_type": "code",
   "execution_count": 124,
   "id": "9bceeaf2-033a-4497-99bf-6a0f9e7668c9",
   "metadata": {},
   "outputs": [],
   "source": [
    "generator = Node2VecLinkGenerator(SG, batch_size)"
   ]
  },
  {
   "cell_type": "code",
   "execution_count": 125,
   "id": "ea099a0e-601e-4630-9f01-075fc6e851b4",
   "metadata": {},
   "outputs": [],
   "source": [
    "node2vec = Node2Vec(emb_size, generator=generator)"
   ]
  },
  {
   "cell_type": "code",
   "execution_count": 126,
   "id": "e3014478-0492-4d25-8d50-67d83e6da94d",
   "metadata": {},
   "outputs": [],
   "source": [
    "x_inp, x_out = node2vec.in_out_tensors()"
   ]
  },
  {
   "cell_type": "code",
   "execution_count": 127,
   "id": "dd4a8610-6c0f-44cb-8270-c2230608e69f",
   "metadata": {},
   "outputs": [
    {
     "name": "stdout",
     "output_type": "stream",
     "text": [
      "link_classification: using 'dot' method to combine node embeddings into edge embeddings\n"
     ]
    }
   ],
   "source": [
    "prediction = link_classification(output_dim=1, output_act=\"sigmoid\", edge_embedding_method=\"dot\")(x_out)"
   ]
  },
  {
   "cell_type": "code",
   "execution_count": 128,
   "id": "3c3c4a14-ea3f-4d7d-bb18-af4baf79ff18",
   "metadata": {},
   "outputs": [],
   "source": [
    "model = keras.Model(inputs=x_inp, outputs=prediction)"
   ]
  },
  {
   "cell_type": "code",
   "execution_count": 129,
   "id": "fac06360-35f2-4fd4-852a-fe34c8c0cca1",
   "metadata": {},
   "outputs": [],
   "source": [
    "model.compile(optimizer=keras.optimizers.Adam(learning_rate=0.001), loss=keras.losses.binary_crossentropy)"
   ]
  },
  {
   "cell_type": "code",
   "execution_count": 130,
   "id": "30739a68-c162-479f-99d0-844391c7ed83",
   "metadata": {},
   "outputs": [
    {
     "name": "stdout",
     "output_type": "stream",
     "text": [
      "Epoch 1/10\n",
      "125000/125000 [==============================] - 1197s 10ms/step - loss: 0.7552\n",
      "Epoch 2/10\n",
      "125000/125000 [==============================] - 1192s 10ms/step - loss: 0.7355\n",
      "Epoch 3/10\n",
      "125000/125000 [==============================] - 1186s 9ms/step - loss: 0.7233\n",
      "Epoch 4/10\n",
      "125000/125000 [==============================] - 1188s 10ms/step - loss: 0.7166\n",
      "Epoch 5/10\n",
      "125000/125000 [==============================] - 1191s 10ms/step - loss: 0.7128\n",
      "Epoch 6/10\n",
      "125000/125000 [==============================] - 1191s 10ms/step - loss: 0.7111\n",
      "Epoch 7/10\n",
      "125000/125000 [==============================] - 1193s 10ms/step - loss: 0.7099\n",
      "Epoch 8/10\n",
      "125000/125000 [==============================] - 1197s 10ms/step - loss: 0.7099\n",
      "Epoch 9/10\n",
      "125000/125000 [==============================] - 1197s 10ms/step - loss: 0.7098\n",
      "Epoch 10/10\n",
      "125000/125000 [==============================] - 1200s 10ms/step - loss: 0.7092\n"
     ]
    }
   ],
   "source": [
    "history = model.fit(\n",
    "    generator.flow(unsupervised_sampler), epochs=epochs, verbose=1, shuffle=True\n",
    ")"
   ]
  },
  {
   "cell_type": "markdown",
   "id": "ccd1055d-3ad9-4453-a70c-109159126e44",
   "metadata": {},
   "source": [
    "### Get node embeddings for  train data"
   ]
  },
  {
   "cell_type": "code",
   "execution_count": 219,
   "id": "989e6d71-d459-4632-956e-57e5e5363454",
   "metadata": {},
   "outputs": [
    {
     "data": {
      "text/html": [
       "<div>\n",
       "<style scoped>\n",
       "    .dataframe tbody tr th:only-of-type {\n",
       "        vertical-align: middle;\n",
       "    }\n",
       "\n",
       "    .dataframe tbody tr th {\n",
       "        vertical-align: top;\n",
       "    }\n",
       "\n",
       "    .dataframe thead th {\n",
       "        text-align: right;\n",
       "    }\n",
       "</style>\n",
       "<table border=\"1\" class=\"dataframe\">\n",
       "  <thead>\n",
       "    <tr style=\"text-align: right;\">\n",
       "      <th></th>\n",
       "      <th>target</th>\n",
       "      <th>node</th>\n",
       "    </tr>\n",
       "  </thead>\n",
       "  <tbody>\n",
       "    <tr>\n",
       "      <th>0</th>\n",
       "      <td>0.251968</td>\n",
       "      <td>11142</td>\n",
       "    </tr>\n",
       "    <tr>\n",
       "      <th>1</th>\n",
       "      <td>0.689541</td>\n",
       "      <td>2243</td>\n",
       "    </tr>\n",
       "    <tr>\n",
       "      <th>2</th>\n",
       "      <td>0.678245</td>\n",
       "      <td>15514</td>\n",
       "    </tr>\n",
       "    <tr>\n",
       "      <th>3</th>\n",
       "      <td>0.272500</td>\n",
       "      <td>20944</td>\n",
       "    </tr>\n",
       "    <tr>\n",
       "      <th>4</th>\n",
       "      <td>0.248888</td>\n",
       "      <td>8721</td>\n",
       "    </tr>\n",
       "  </tbody>\n",
       "</table>\n",
       "</div>"
      ],
      "text/plain": [
       "     target   node\n",
       "0  0.251968  11142\n",
       "1  0.689541   2243\n",
       "2  0.678245  15514\n",
       "3  0.272500  20944\n",
       "4  0.248888   8721"
      ]
     },
     "execution_count": 219,
     "metadata": {},
     "output_type": "execute_result"
    }
   ],
   "source": [
    "train = pd.read_csv(\"https://raw.githubusercontent.com/a-milenkin/Otus_HW_protein_expression/main/train.csv\", sep=\",\") \n",
    "train.head()"
   ]
  },
  {
   "cell_type": "code",
   "execution_count": 43,
   "id": "4e05758f-e7eb-460f-bd39-d046458c1429",
   "metadata": {},
   "outputs": [
    {
     "data": {
      "text/plain": [
       "(8000, 2)"
      ]
     },
     "execution_count": 43,
     "metadata": {},
     "output_type": "execute_result"
    }
   ],
   "source": [
    "train.shape"
   ]
  },
  {
   "cell_type": "code",
   "execution_count": 105,
   "id": "3400d59a-d0ed-4cf9-8102-930c30cfc084",
   "metadata": {},
   "outputs": [],
   "source": [
    "train_node_names = train[\"node\"].values"
   ]
  },
  {
   "cell_type": "code",
   "execution_count": 106,
   "id": "9812e02c-3b30-4d5f-a1bb-faa6ec044ac0",
   "metadata": {},
   "outputs": [
    {
     "data": {
      "text/plain": [
       "array([11142,  2243, 15514, ..., 20535,  9769, 15711])"
      ]
     },
     "execution_count": 106,
     "metadata": {},
     "output_type": "execute_result"
    }
   ],
   "source": [
    "train_node_names"
   ]
  },
  {
   "cell_type": "code",
   "execution_count": 107,
   "id": "2ea56372-9013-483e-b73f-95a64e497489",
   "metadata": {},
   "outputs": [],
   "source": [
    "x_inp_src = x_inp[0]\n",
    "x_out_src = x_out[0]\n",
    "embedding_model = keras.Model(inputs=x_inp_src, outputs=x_out_src)"
   ]
  },
  {
   "cell_type": "code",
   "execution_count": 108,
   "id": "5ba6859c-6630-4497-b7a3-ab8d18c7c978",
   "metadata": {},
   "outputs": [],
   "source": [
    "node_gen = Node2VecNodeGenerator(SG, batch_size).flow(train_node_names)"
   ]
  },
  {
   "cell_type": "code",
   "execution_count": 109,
   "id": "4f82330b-0949-4a49-b506-2ba77c31bb94",
   "metadata": {},
   "outputs": [
    {
     "name": "stdout",
     "output_type": "stream",
     "text": [
      "125/125 [==============================] - 0s 347us/step\n"
     ]
    }
   ],
   "source": [
    "node_embeddings = embedding_model.predict(node_gen, verbose=1)"
   ]
  },
  {
   "cell_type": "code",
   "execution_count": 35,
   "id": "e8fd900b-d63c-4681-820d-aa38479d37c2",
   "metadata": {},
   "outputs": [
    {
     "data": {
      "text/plain": [
       "(8000, 128)"
      ]
     },
     "execution_count": 134,
     "metadata": {},
     "output_type": "execute_result"
    }
   ],
   "source": [
    "node_embeddings.shape"
   ]
  },
  {
   "cell_type": "markdown",
   "id": "6fa830c8-68db-4874-aab7-5ad2ae75b338",
   "metadata": {},
   "source": [
    "### Build regressor model to predict proteins level"
   ]
  },
  {
   "cell_type": "code",
   "execution_count": 44,
   "id": "4e823979-ec7c-4069-83c1-0f60c65c440a",
   "metadata": {},
   "outputs": [],
   "source": [
    "from xgboost import XGBRegressor\n",
    "from sklearn.model_selection import train_test_split\n",
    "from sklearn.metrics import mean_squared_error\n",
    "from sklearn.model_selection import cross_val_score"
   ]
  },
  {
   "cell_type": "code",
   "execution_count": 135,
   "id": "6586b25f-f422-44b8-bfcf-e4d22c7cc699",
   "metadata": {},
   "outputs": [],
   "source": [
    "regressor = XGBRegressor(n_estimators=150, max_depth=15,  learning_rate=0.01)"
   ]
  },
  {
   "cell_type": "code",
   "execution_count": 136,
   "id": "92766070-23fe-479d-a15e-5400482a7aba",
   "metadata": {},
   "outputs": [],
   "source": [
    "targets = train[\"target\"].values"
   ]
  },
  {
   "cell_type": "code",
   "execution_count": 138,
   "id": "3eb19cad-21d2-4bfa-b510-82750ee0ce72",
   "metadata": {},
   "outputs": [],
   "source": [
    "scores = cross_val_score(estimator=regressor, X=node_embeddings, y=targets, cv=4, scoring=\"neg_mean_squared_error\", n_jobs=-1)"
   ]
  },
  {
   "cell_type": "code",
   "execution_count": 151,
   "id": "0caf6530-3ca3-4c5a-9974-a46d38fbb169",
   "metadata": {},
   "outputs": [
    {
     "name": "stdout",
     "output_type": "stream",
     "text": [
      "Validation results: [-0.43744031 -0.45344047 -0.43669918 -0.56970117]\n"
     ]
    }
   ],
   "source": [
    "print(f\"Validation results: {scores}\")"
   ]
  },
  {
   "cell_type": "code",
   "execution_count": 141,
   "id": "aeba8c86-5b69-405e-9727-3960c1ee12d6",
   "metadata": {},
   "outputs": [
    {
     "data": {
      "text/plain": [
       "XGBRegressor(base_score=0.5, booster='gbtree', colsample_bylevel=1,\n",
       "             colsample_bynode=1, colsample_bytree=1, gamma=0, gpu_id=-1,\n",
       "             importance_type='gain', interaction_constraints='',\n",
       "             learning_rate=0.01, max_delta_step=0, max_depth=15,\n",
       "             min_child_weight=1, missing=nan, monotone_constraints='()',\n",
       "             n_estimators=150, n_jobs=16, num_parallel_tree=1, random_state=0,\n",
       "             reg_alpha=0, reg_lambda=1, scale_pos_weight=1, subsample=1,\n",
       "             tree_method='exact', validate_parameters=1, verbosity=None)"
      ]
     },
     "execution_count": 141,
     "metadata": {},
     "output_type": "execute_result"
    }
   ],
   "source": [
    "regressor.fit(node_embeddings, targets)"
   ]
  },
  {
   "cell_type": "markdown",
   "id": "dae825e2-9e63-4143-9083-d2a3c8cc8a2c",
   "metadata": {},
   "source": [
    "### Validate on test data"
   ]
  },
  {
   "cell_type": "code",
   "execution_count": 57,
   "id": "8ef61703-7f97-4c87-a6e8-0acefcad98ce",
   "metadata": {},
   "outputs": [
    {
     "data": {
      "text/html": [
       "<div>\n",
       "<style scoped>\n",
       "    .dataframe tbody tr th:only-of-type {\n",
       "        vertical-align: middle;\n",
       "    }\n",
       "\n",
       "    .dataframe tbody tr th {\n",
       "        vertical-align: top;\n",
       "    }\n",
       "\n",
       "    .dataframe thead th {\n",
       "        text-align: right;\n",
       "    }\n",
       "</style>\n",
       "<table border=\"1\" class=\"dataframe\">\n",
       "  <thead>\n",
       "    <tr style=\"text-align: right;\">\n",
       "      <th></th>\n",
       "      <th>target</th>\n",
       "      <th>node</th>\n",
       "    </tr>\n",
       "  </thead>\n",
       "  <tbody>\n",
       "    <tr>\n",
       "      <th>0</th>\n",
       "      <td>0.279231</td>\n",
       "      <td>817</td>\n",
       "    </tr>\n",
       "    <tr>\n",
       "      <th>1</th>\n",
       "      <td>0.380795</td>\n",
       "      <td>9574</td>\n",
       "    </tr>\n",
       "    <tr>\n",
       "      <th>2</th>\n",
       "      <td>0.686527</td>\n",
       "      <td>1607</td>\n",
       "    </tr>\n",
       "    <tr>\n",
       "      <th>3</th>\n",
       "      <td>0.303594</td>\n",
       "      <td>4782</td>\n",
       "    </tr>\n",
       "    <tr>\n",
       "      <th>4</th>\n",
       "      <td>0.367374</td>\n",
       "      <td>24125</td>\n",
       "    </tr>\n",
       "  </tbody>\n",
       "</table>\n",
       "</div>"
      ],
      "text/plain": [
       "     target   node\n",
       "0  0.279231    817\n",
       "1  0.380795   9574\n",
       "2  0.686527   1607\n",
       "3  0.303594   4782\n",
       "4  0.367374  24125"
      ]
     },
     "execution_count": 57,
     "metadata": {},
     "output_type": "execute_result"
    }
   ],
   "source": [
    "test = pd.read_csv(\"https://raw.githubusercontent.com/a-milenkin/Otus_HW_protein_expression/main/test.csv\", sep=\",\")\n",
    "test.head()"
   ]
  },
  {
   "cell_type": "code",
   "execution_count": 142,
   "id": "9c50c84f-fe1b-461e-bbf0-a17f08c9a0c1",
   "metadata": {},
   "outputs": [],
   "source": [
    "test_node_names = test[\"node\"].values"
   ]
  },
  {
   "cell_type": "code",
   "execution_count": 143,
   "id": "415d8ade-5cfc-43bb-938f-e64077083df1",
   "metadata": {},
   "outputs": [],
   "source": [
    "node_gen_test = Node2VecNodeGenerator(SG, 1).flow(test_node_names)"
   ]
  },
  {
   "cell_type": "code",
   "execution_count": 144,
   "id": "0b312baf-d0d2-4bd2-ac53-1a16e1ca3c48",
   "metadata": {},
   "outputs": [
    {
     "name": "stdout",
     "output_type": "stream",
     "text": [
      "2000/2000 [==============================] - 1s 335us/step\n"
     ]
    }
   ],
   "source": [
    "test_node_embeddings = embedding_model.predict(node_gen_test, verbose=1)"
   ]
  },
  {
   "cell_type": "code",
   "execution_count": 212,
   "id": "830a7533-8a81-4822-bf42-e322f868b438",
   "metadata": {},
   "outputs": [
    {
     "data": {
      "text/plain": [
       "array([[-0.82835424,  0.0213073 , -0.5862759 , ..., -0.30974373,\n",
       "        -0.11778651,  0.12209934],\n",
       "       [ 0.49578193, -0.10690324, -0.23781024, ..., -0.1380919 ,\n",
       "        -0.59519374, -0.20721357],\n",
       "       [ 0.00399223, -0.32891715,  0.101818  , ...,  0.04653355,\n",
       "        -0.0060368 , -0.17976752],\n",
       "       ...,\n",
       "       [ 0.2631046 , -1.0927707 ,  0.6886001 , ...,  0.06539971,\n",
       "         0.09963416, -0.08995409],\n",
       "       [-0.36441943,  0.2607973 , -0.3212736 , ...,  0.33909318,\n",
       "        -0.02235705,  0.11336233],\n",
       "       [ 0.48098058, -0.22165926, -0.33762574, ...,  0.13691878,\n",
       "        -0.20696998,  0.20531532]], dtype=float32)"
      ]
     },
     "execution_count": 212,
     "metadata": {},
     "output_type": "execute_result"
    }
   ],
   "source": [
    "test_node_embeddings"
   ]
  },
  {
   "cell_type": "code",
   "execution_count": 145,
   "id": "020403e8-dbf3-42c5-9034-f950e3ae40c5",
   "metadata": {},
   "outputs": [],
   "source": [
    "predicts = regressor.predict(test_node_embeddings)"
   ]
  },
  {
   "cell_type": "code",
   "execution_count": 154,
   "id": "4c5dc8ac-78e3-4813-8048-5b62e7eb3162",
   "metadata": {},
   "outputs": [
    {
     "name": "stdout",
     "output_type": "stream",
     "text": [
      "MeanSquaredError for test data: 0.764815189247934\n"
     ]
    }
   ],
   "source": [
    "mse_test = mean_squared_error(test[\"target\"].values, predicts)\n",
    "print(f\"MeanSquaredError for test data: {mse_test}\")"
   ]
  },
  {
   "cell_type": "markdown",
   "id": "2d7a7433-aa45-4b63-914c-e0392af041da",
   "metadata": {},
   "source": [
    "### Check RandomForestRegressor"
   ]
  },
  {
   "cell_type": "code",
   "execution_count": 112,
   "id": "fd7f8bd6-8d16-4e7d-b73d-e2a76d7f84ce",
   "metadata": {},
   "outputs": [],
   "source": [
    "from sklearn.ensemble import RandomForestRegressor"
   ]
  },
  {
   "cell_type": "code",
   "execution_count": 161,
   "id": "23022621-f28a-4c4b-b54b-64a3a87cded7",
   "metadata": {},
   "outputs": [],
   "source": [
    "regressor_forest = RandomForestRegressor(max_depth=15, n_jobs=-1, n_estimators=150)"
   ]
  },
  {
   "cell_type": "code",
   "execution_count": 162,
   "id": "b143cfc5-5a05-4933-b1d3-4d5e4eb25dba",
   "metadata": {},
   "outputs": [
    {
     "data": {
      "text/plain": [
       "RandomForestRegressor(max_depth=15, n_estimators=150, n_jobs=-1)"
      ]
     },
     "execution_count": 162,
     "metadata": {},
     "output_type": "execute_result"
    }
   ],
   "source": [
    "regressor_forest.fit(node_embeddings, targets)"
   ]
  },
  {
   "cell_type": "code",
   "execution_count": 164,
   "id": "59ff9686-78d8-4d7b-bb57-0f23b48f2c80",
   "metadata": {},
   "outputs": [
    {
     "name": "stdout",
     "output_type": "stream",
     "text": [
      "MeanSquaredError for test data (for RandomForest): 0.762426649964919\n"
     ]
    }
   ],
   "source": [
    "predicts_forest = regressor_forest.predict(test_node_embeddings)\n",
    "mse_test = mean_squared_error(test[\"target\"].values, predicts_forest)\n",
    "print(f\"MeanSquaredError for test data (for RandomForest): {mse_test}\")"
   ]
  },
  {
   "cell_type": "markdown",
   "id": "f0b609f3-66fd-43ea-a128-788e6ff21d28",
   "metadata": {},
   "source": [
    "### Gensim + W2VEC approach"
   ]
  },
  {
   "cell_type": "code",
   "execution_count": 272,
   "id": "c6a2a8cb-4547-46bc-b3da-170504499e3c",
   "metadata": {},
   "outputs": [],
   "source": [
    "from gensim.models import Word2Vec"
   ]
  },
  {
   "cell_type": "code",
   "execution_count": 273,
   "id": "0e7c45c5-81db-4c2c-ab8a-82efcf1de648",
   "metadata": {},
   "outputs": [],
   "source": [
    "GraphtypeW2V = nx.Graph()\n",
    "G_W2V = nx.from_pandas_edgelist(edges, source='node_1', target='node_2', create_using=GraphtypeW2V)"
   ]
  },
  {
   "cell_type": "code",
   "execution_count": 274,
   "id": "5a54fea0-2c48-4b68-aa5e-6fdb8e776636",
   "metadata": {},
   "outputs": [],
   "source": [
    "#important! adding absent nodes from train data and test data\n",
    "G_W2V.add_nodes_from([n for n in train_node_names])\n",
    "G_W2V.add_nodes_from([n for n in test_node_names])"
   ]
  },
  {
   "cell_type": "code",
   "execution_count": 275,
   "id": "f8fe7fbc-6a1c-4d54-95c8-7158869a8409",
   "metadata": {},
   "outputs": [],
   "source": [
    "SG_W2V = StellarGraph.from_networkx(G_W2V)"
   ]
  },
  {
   "cell_type": "code",
   "execution_count": 276,
   "id": "bfbf745f-2ad8-464a-8e8a-ec4038961c9f",
   "metadata": {},
   "outputs": [],
   "source": [
    "rw = BiasedRandomWalk(SG_W2V)\n",
    "\n",
    "walks = rw.run(\n",
    "    nodes=list(SG_W2V.nodes()),  # root nodes\n",
    "    length=100,  # maximum length of a random walk\n",
    "    n=10,  # number of random walks per root node\n",
    "    p=0.5,  # Defines (unormalised) probability, 1/p, of returning to source node\n",
    "    q=2.0,  # Defines (unormalised) probability, 1/q, for moving away from source node\n",
    ")\n"
   ]
  },
  {
   "cell_type": "code",
   "execution_count": 278,
   "id": "4ca56aed-23a2-414d-bdd1-3c62d654d7b5",
   "metadata": {},
   "outputs": [],
   "source": [
    "#build Word2Vec model\n",
    "str_walks = [[str(n) for n in walk] for walk in walks]\n",
    "model = Word2Vec(str_walks, vector_size=128, window=5, min_count=0, sg=1, workers=2, epochs=1, negative=15)"
   ]
  },
  {
   "cell_type": "code",
   "execution_count": 279,
   "id": "cd88d8af-6f50-4714-8b37-d553db425a27",
   "metadata": {},
   "outputs": [],
   "source": [
    "w2v_train_embeddings = [list(model.wv[str(n)]) for n in train_node_names]"
   ]
  },
  {
   "cell_type": "code",
   "execution_count": 281,
   "id": "5612c286-e2ff-4367-8d27-bd3d35daa5fa",
   "metadata": {},
   "outputs": [
    {
     "data": {
      "text/plain": [
       "XGBRegressor(base_score=0.5, booster='gbtree', colsample_bylevel=1,\n",
       "             colsample_bynode=1, colsample_bytree=1, gamma=0, gpu_id=-1,\n",
       "             importance_type='gain', interaction_constraints='',\n",
       "             learning_rate=0.01, max_delta_step=0, max_depth=25,\n",
       "             min_child_weight=1, missing=nan, monotone_constraints='()',\n",
       "             n_estimators=500, n_jobs=16, num_parallel_tree=1, random_state=143,\n",
       "             reg_alpha=0, reg_lambda=1, scale_pos_weight=1, subsample=1,\n",
       "             tree_method='exact', validate_parameters=1, verbosity=None)"
      ]
     },
     "execution_count": 281,
     "metadata": {},
     "output_type": "execute_result"
    }
   ],
   "source": [
    "regressor_w2v = XGBRegressor(n_estimators=500, max_depth=25,  learning_rate=0.01, random_state=143)\n",
    "targets = train[\"target\"].values\n",
    "X = pd.DataFrame(w2v_train_embeddings)\n",
    "#split validation set\n",
    "X_train, X_val, y_train, y_val = train_test_split(X, targets, test_size=0.2)\n",
    "regressor_w2v.fit(X_train, y_train, eval_set=[(X_val, y_val)], early_stopping_rounds=10, verbose=0)"
   ]
  },
  {
   "cell_type": "code",
   "execution_count": 282,
   "id": "9f135f03-4f4a-4a44-aeaa-1d0dbc9bff1f",
   "metadata": {},
   "outputs": [
    {
     "name": "stdout",
     "output_type": "stream",
     "text": [
      "R2 for W2V regressor 0.8623162588276287\n"
     ]
    }
   ],
   "source": [
    "r2score = regressor_w2v.score(X, targets)\n",
    "print(f\"R2 for W2V regressor {r2score}\")"
   ]
  },
  {
   "cell_type": "code",
   "execution_count": 283,
   "id": "57ad39bf-9fa1-4a24-976c-8d861baec79e",
   "metadata": {},
   "outputs": [],
   "source": [
    "w2v_test_embeddings = [list(model.wv[str(n)]) for n in test_node_names]\n",
    "predicts_w2v = regressor_w2v.predict(pd.DataFrame(w2v_test_embeddings))"
   ]
  },
  {
   "cell_type": "code",
   "execution_count": 284,
   "id": "20d37a08-69aa-481f-816d-eed95d527c6a",
   "metadata": {},
   "outputs": [
    {
     "name": "stdout",
     "output_type": "stream",
     "text": [
      "MeanSquaredError for test data (for W2V+XGB): 0.5265440236325964\n"
     ]
    }
   ],
   "source": [
    "mse_test = mean_squared_error(test[\"target\"].values, predicts_w2v)\n",
    "print(f\"MeanSquaredError for test data (for W2V+XGB): {mse_test}\")"
   ]
  },
  {
   "cell_type": "code",
   "execution_count": 285,
   "id": "71ff3543-2d72-40af-91d1-8d3100ccdf62",
   "metadata": {},
   "outputs": [],
   "source": [
    "from sklearn.metrics import r2_score"
   ]
  },
  {
   "cell_type": "code",
   "execution_count": 287,
   "id": "2cfff87a-33c4-4737-b17b-c0b23c624a3e",
   "metadata": {},
   "outputs": [
    {
     "name": "stdout",
     "output_type": "stream",
     "text": [
      "R2 for test data (for W2V+XGB): 0.2998874562207178\n"
     ]
    }
   ],
   "source": [
    "r2_test = r2_score(test[\"target\"].values, predicts_w2v)\n",
    "print(f\"R2 for test data (for W2V+XGB): {r2_test}\")"
   ]
  },
  {
   "cell_type": "code",
   "execution_count": 296,
   "id": "1d806328-398e-4785-8999-0686511e3a39",
   "metadata": {},
   "outputs": [
    {
     "data": {
      "text/plain": [
       "<AxesSubplot:xlabel='real_data', ylabel='predicts'>"
      ]
     },
     "execution_count": 296,
     "metadata": {},
     "output_type": "execute_result"
    },
    {
     "data": {
      "image/png": "[encoded data removed]",
      "text/plain": [
       "<Figure size 640x480 with 1 Axes>"
      ]
     },
     "metadata": {},
     "output_type": "display_data"
    }
   ],
   "source": [
    "import seaborn as sns\n",
    "import matplotlib.pyplot as plt\n",
    "\n",
    "sns.scatterplot(data=pd.DataFrame({'real_data':test[\"target\"].values, 'predicts':predicts_w2v}), x='real_data', y='predicts')"
   ]
  },
  {
   "cell_type": "markdown",
   "id": "5ab8c784-6fe1-4e04-a61c-3f16c9dcff8c",
   "metadata": {},
   "source": [
    "### Compare with mean"
   ]
  },
  {
   "cell_type": "code",
   "execution_count": 298,
   "id": "285869eb-904d-4fdb-89e8-f64b6ab7390e",
   "metadata": {},
   "outputs": [
    {
     "name": "stdout",
     "output_type": "stream",
     "text": [
      "MeanSquaredError for test data (for Mean): 0.7535519418707666\n"
     ]
    }
   ],
   "source": [
    "mean_values = [targets.mean()] * test.shape[0]\n",
    "mse_test_mean = mean_squared_error(test[\"target\"].values, mean_values)\n",
    "print(f\"MeanSquaredError for test data (for Mean): {mse_test_mean}\")"
   ]
  },
  {
   "cell_type": "markdown",
   "id": "1adb605b-8db5-4fff-a9fe-587d4f414b98",
   "metadata": {},
   "source": [
    "### Выводы. Лучшая метрика по MSE получилась 0.5265 (R2=0.299). Модель W2Vect+Xgboost(with validation).Это гораздо лучше чем модели Node2Vec. Для сравнения с бейзлайном была выбрана модель среднего по тренировачной выборке. Бейзлайн показал метркику 0.7535 по MSE. Т.о. наша модель опередила бейзлайн на 0.23 по MSE, что говорит об успехе. Визуализация на scatter тоже стала гораздо лучше.\n"
   ]
  },
  {
   "cell_type": "code",
   "execution_count": null,
   "id": "5fb5f69d-6e5c-4828-b271-c93b746b685c",
   "metadata": {},
   "outputs": [],
   "source": []
  }
 ],
 "metadata": {
  "kernelspec": {
   "display_name": "otus",
   "language": "python",
   "name": "otus"
  },
  "language_info": {
   "codemirror_mode": {
    "name": "ipython",
    "version": 3
   },
   "file_extension": ".py",
   "mimetype": "text/x-python",
   "name": "python",
   "nbconvert_exporter": "python",
   "pygments_lexer": "ipython3",
   "version": "3.8.10"
  }
 },
 "nbformat": 4,
 "nbformat_minor": 5
}
